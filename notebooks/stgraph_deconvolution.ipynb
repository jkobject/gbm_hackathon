{
 "cells": [
  {
   "cell_type": "code",
   "execution_count": null,
   "id": "acd81f40-1421-4540-b6ce-bc0531a0275a",
   "metadata": {},
   "outputs": [],
   "source": [
    "# %pip install GraphST\n",
    "# %pip install POT"
   ]
  },
  {
   "cell_type": "markdown",
   "id": "d2318590-52da-4cf9-9200-9f8795581362",
   "metadata": {},
   "source": [
    "# GraphST Cell Deconvolution\n",
    "\n",
    "Inspired by this pipeline:\n",
    "https://deepst-tutorials.readthedocs.io/en/latest/Tutorial%202_scRNA%20and%20ST%20data%20integration.html"
   ]
  },
  {
   "cell_type": "code",
   "execution_count": null,
   "id": "f8d7c223-c729-4d3a-a427-cee8a72d94a0",
   "metadata": {},
   "outputs": [],
   "source": [
    "import os\n",
    "# import squidpy as sq\n",
    "import tangram as tg\n",
    "import matplotlib.pyplot as plt\n",
    "import anndata as ad\n",
    "import scanpy as sc\n",
    "import pandas as pd\n",
    "import numpy as np\n",
    "import json\n",
    "from typing import Dict, List, Optional, Union\n",
    "from matplotlib.pyplot import imread\n",
    "import liana as li\n",
    "import decoupler as dc\n",
    "import omnipath\n",
    "from tqdm import tqdm\n",
    "import torch\n",
    "from GraphST import GraphST\n",
    "from GraphST.preprocess import filter_with_overlap_gene\n",
    "from GraphST.utils import project_cell_to_spot\n",
    "\n",
    "\n",
    "\n",
    "from gbmhackathon.utils.visium_functions import (\n",
    "    normalize_anndata_wrapper,\n",
    "    convert_obsm_to_adata\n",
    ")\n",
    "from gbmhackathon.viz.visium_functions import (\n",
    "    plot_spatial_expression,\n",
    "    plot_obsm\n",
    ")\n",
    "from gbmhackathon.stats.visium_functions import (\n",
    "    perform_multi_clustering,\n",
    "    quantify_cell_population_activity\n",
    ")\n",
    "from gbmhackathon import MosaicDataset\n",
    "\n",
    "import matplotlib as mpl\n",
    "mpl.rcParams['figure.dpi'] = 1200"
   ]
  },
  {
   "cell_type": "code",
   "execution_count": null,
   "id": "288ea293-ba0a-42af-92d3-374fb6afd7b0",
   "metadata": {},
   "outputs": [],
   "source": [
    "visium_dict = MosaicDataset.load_visium(\n",
    "    sample_list=[\"HK_G_022a_vis\", \"HK_G_024a_vis\", \"HK_G_030a_vis\"],\n",
    "    resolution=\"hires\"\n",
    ")"
   ]
  },
  {
   "cell_type": "code",
   "execution_count": null,
   "id": "444a15f4-bffb-43d0-9577-ce4ee92803b8",
   "metadata": {},
   "outputs": [],
   "source": [
    "output_file = \"data/mosaic_dataset/single_cell/preprocessed/sc_merged_annotated.h5ad\"\n",
    "\n",
    "if os.path.exists(output_file):\n",
    "    # If the file exists, read the AnnData object from the file\n",
    "    adata_sc = sc.read_h5ad(output_file)\n",
    "    print(f\"Loaded AnnData from {output_file}\")\n",
    "else:\n",
    "    # If the file does not exist, load the data and write it locally\n",
    "    adata_sc = MosaicDataset.load_singlecell()\n",
    "    adata_sc.write(output_file)\n",
    "    print(f\"Single-cell AnnData successfully saved to {output_file}\")"
   ]
  },
  {
   "cell_type": "code",
   "execution_count": null,
   "id": "96e59688-d984-4bd7-81f6-94d24eaf1d57",
   "metadata": {},
   "outputs": [],
   "source": [
    "# Normalize ST data, e.g., to 1e6 counts\n",
    "visium_obj = normalize_anndata_wrapper(visium_dict, target_sum=1e6)\n",
    "\n",
    "sample_key = \"HK_G_022a_vis\"\n",
    "adata_st = visium_obj[sample_key]\n",
    "\n",
    "adata_st.var_names_make_unique()"
   ]
  },
  {
   "cell_type": "code",
   "execution_count": null,
   "id": "8717e900-d180-41f7-94e9-ce65eae3ffeb",
   "metadata": {},
   "outputs": [],
   "source": [
    "if hasattr(adata_st, 'raw'):\n",
    "    del adata_st.raw  # remove entire .raw attribute (if it exists)\n",
    "\n",
    "# Remove unneeded layers\n",
    "for layer_key in ['raw', 'CPM', 'log_CPM']:\n",
    "    if layer_key in adata_st.layers:\n",
    "        del adata_st.layers[layer_key]\n",
    "\n",
    "for obsm_key in ['distance_matrix', 'graph_neigh']:\n",
    "    if obsm_key in adata_st.obsm:\n",
    "        del adata_st.obsm[obsm_key]\n",
    "\n",
    "if 'spatial' in adata_st.uns:\n",
    "    del adata_st.uns['spatial']\n",
    "\n",
    "if hasattr(adata_sc, 'raw'):\n",
    "    del adata_sc.raw\n",
    "\n",
    "for layer_key in ['LogNormalize', 'ambient_rna_removed']:\n",
    "    if layer_key in adata_sc.layers:\n",
    "        del adata_sc.layers[layer_key]\n",
    "\n",
    "for obsm_key in ['X_pca', 'X_scanvi', 'X_scvi', 'X_umap']:\n",
    "    if obsm_key in adata_sc.obsm:\n",
    "        del adata_sc.obsm[obsm_key]\n",
    "\n",
    "# Remove neighbor graphs or other large data in .obsp or .uns\n",
    "if 'distances' in adata_sc.obsp:\n",
    "    del adata_sc.obsp['distances']\n",
    "if 'connectivities' in adata_sc.obsp:\n",
    "    del adata_sc.obsp['connectivities']\n",
    "for uns_key in ['neighbors', 'umap', 'scanvi_probs']:\n",
    "    if uns_key in adata_sc.uns:\n",
    "        del adata_sc.uns[uns_key]\n",
    "\n",
    "adata_st.X = adata_st.X.astype(np.float32)\n",
    "adata_sc.X = adata_sc.X.astype(np.float32)"
   ]
  },
  {
   "cell_type": "code",
   "execution_count": null,
   "id": "a2db0ca4-911c-4d59-9340-c385d216e713",
   "metadata": {},
   "outputs": [],
   "source": [
    "# adata_st.write(\"vdata/adata_st_cleaned.h5ad\")\n",
    "# adata_sc.write(\"vdata/adata_sc_cleaned.h5ad\")\n",
    "# adata_st = sc.read_h5ad(\"vdata/adata_st_cleaned.h5ad\")\n",
    "adata_sc = sc.read_h5ad(\"vdata/adata_sc_cleaned.h5ad\")"
   ]
  },
  {
   "cell_type": "code",
   "execution_count": null,
   "id": "3e73c14b-0bc4-4003-a6c2-33034006f2d7",
   "metadata": {},
   "outputs": [],
   "source": [
    "obs_columns_to_remove = [\"in_tissue\", \"array_row\", \"array_col\"]\n",
    "var_columns_to_remove = [\"feature_types\", \"genome\"]\n",
    "\n",
    "# Remove columns from adata_st.obs\n",
    "adata_st.obs.drop(columns=obs_columns_to_remove, inplace=True, errors=\"ignore\")\n",
    "\n",
    "# Remove columns from adata_st.var\n",
    "adata_st.var.drop(columns=var_columns_to_remove, inplace=True, errors=\"ignore\")\n",
    "\n",
    "# Same idea applies to adata_sc:\n",
    "adata_sc.obs.drop(columns=[\"doublet_score_scdblfinder\", \"doublet_predicted_scdblfinder\"], \n",
    "                  inplace=True, \n",
    "                  errors=\"ignore\")"
   ]
  },
  {
   "cell_type": "code",
   "execution_count": null,
   "id": "710dc9c9-6d1b-4761-b7f9-d321199845a9",
   "metadata": {},
   "outputs": [],
   "source": [
    "n_cells_to_keep = 250000  # keep 50k cells for instance\n",
    "if adata_sc.n_obs > n_cells_to_keep:\n",
    "    idx = np.random.choice(adata_sc.n_obs, n_cells_to_keep, replace=False)\n",
    "    adata_sc = adata_sc[idx, :].copy()"
   ]
  },
  {
   "cell_type": "code",
   "execution_count": null,
   "id": "e7bda8e8-185e-4e65-861e-6f723a2df1cf",
   "metadata": {
    "scrolled": true
   },
   "outputs": [],
   "source": [
    "GraphST.preprocess(adata_st)\n",
    "GraphST.construct_interaction(adata_st)\n",
    "GraphST.add_contrastive_label(adata_st)\n",
    "\n",
    "GraphST.preprocess(adata_sc)\n",
    "adata_st, adata_sc = filter_with_overlap_gene(adata_st, adata_sc)\n",
    "GraphST.get_feature(adata_st)\n",
    "\n",
    "device = torch.device(\"cuda:0\" if torch.cuda.is_available() else \"cpu\")\n",
    "\n",
    "model = GraphST.GraphST(\n",
    "    adata_st,\n",
    "    adata_sc,\n",
    "    epochs=700,\n",
    "    random_seed=46,\n",
    "    device=device,\n",
    "    deconvolution=True\n",
    ")\n",
    "adata_st, adata_sc = model.train_map()"
   ]
  },
  {
   "cell_type": "code",
   "execution_count": null,
   "id": "c9e7411a-6c67-414d-bd80-4fcac8602ec9",
   "metadata": {},
   "outputs": [],
   "source": [
    "adata_sc.obs['cell_type'] = adata_sc.obs['celltype_level2_scanvi'].copy()\n",
    "project_cell_to_spot(adata_st, adata_sc, retain_percent=0.15)\n",
    "\n",
    "print(adata_st)"
   ]
  },
  {
   "cell_type": "code",
   "execution_count": null,
   "id": "a1407ae9-cc29-4c7e-9174-607146d6b199",
   "metadata": {
    "scrolled": true
   },
   "outputs": [],
   "source": [
    "with mpl.rc_context({'axes.facecolor': 'black', 'figure.figsize': [5, 5]}):\n",
    "    sc.pl.spatial(\n",
    "    adata_st,\n",
    "    color=['Immune', 'Neuroglia', 'Neuron', 'Stromal', 'Endothelial', 'Granulocyte', 'Malignant_gbm', 'MoMac', 'Oligodendrocyte','T_NK'],\n",
    "    cmap='magma', \n",
    "    ncols=5,\n",
    "    size=1.1,\n",
    "    img_key=\"hires\",\n",
    "    vmin=0,\n",
    "    vmax=\"p99.2\",    \n",
    "    show=True\n",
    ")"
   ]
  }
 ],
 "metadata": {
  "kernelspec": {
   "display_name": "conda_gbmhackathon_2",
   "language": "python",
   "name": "conda_gbmhackathon_2"
  },
  "language_info": {
   "codemirror_mode": {
    "name": "ipython",
    "version": 3
   },
   "file_extension": ".py",
   "mimetype": "text/x-python",
   "name": "python",
   "nbconvert_exporter": "python",
   "pygments_lexer": "ipython3",
   "version": "3.10.16"
  }
 },
 "nbformat": 4,
 "nbformat_minor": 5
}
